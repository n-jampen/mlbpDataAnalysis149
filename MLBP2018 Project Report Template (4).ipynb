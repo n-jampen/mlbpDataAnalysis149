{
 "cells": [
  {
   "cell_type": "markdown",
   "metadata": {},
   "source": [
    "**Machine Learning Basic Principles 2018 - Data Analysis Project Report**"
   ]
  },
  {
   "cell_type": "markdown",
   "metadata": {},
   "source": [
    "*All the text in italics is instructions for filling the template - remove when writing the project report!*"
   ]
  },
  {
   "cell_type": "markdown",
   "metadata": {},
   "source": [
    "# *Title* "
   ]
  },
  {
   "cell_type": "markdown",
   "metadata": {},
   "source": [
    "*Title should be concise and informative, describes the approach to solve the problem. Some good titles from previous years:*\n",
    "\n",
    "*- Comparing extreme learning machines and naive bayes’ classifier in spam detection*\n",
    "\n",
    "*- Using linear discriminant analysis in spam detection*\n",
    "\n",
    "*Some not-so-good titles:*\n",
    "\n",
    "*- Bayesian spam filtering with extras*\n",
    "\n",
    "*- Two-component classifier for spam detection*\n",
    "\n",
    "*- CS-E3210 Term Project, final report*\n",
    "\n",
    "\n"
   ]
  },
  {
   "cell_type": "markdown",
   "metadata": {},
   "source": [
    "## Abstract"
   ]
  },
  {
   "cell_type": "markdown",
   "metadata": {},
   "source": [
    "*Precise summary of the whole report, previews the contents and results. Must be a single paragraph between 100 and 200 words.*\n",
    "\n"
   ]
  },
  {
   "cell_type": "markdown",
   "metadata": {},
   "source": [
    "## 1. Introduction"
   ]
  },
  {
   "cell_type": "markdown",
   "metadata": {},
   "source": [
    "*Background, problem statement, motivation, many references, description of\n",
    "contents. Introduces the reader to the topic and the broad context within which your\n",
    "research/project fits*\n",
    "\n",
    "*- What do you hope to learn from the project?*\n",
    "*- What question is being addressed?*\n",
    "*- Why is this task important? (motivation)*\n",
    "\n",
    "*Keep it short (half to 1 page).*\n",
    "\n"
   ]
  },
  {
   "cell_type": "markdown",
   "metadata": {},
   "source": [
    "## 2. Data analysis"
   ]
  },
  {
   "cell_type": "markdown",
   "metadata": {},
   "source": [
    "*Briefly describe data (class distribution, dimensionality) and how will it affect\n",
    "classification. Visualize the data. Don’t focus too much on the meaning of the features,\n",
    "unless you want to.*\n",
    "\n",
    "*- Include histograms showing class distribution.*\n",
    "\n"
   ]
  },
  {
   "cell_type": "code",
   "execution_count": 9,
   "metadata": {},
   "outputs": [],
   "source": [
    "# Import libraries\n",
    "import pandas as pd\n",
    "import numpy as np\n",
    "import seaborn as sns; sns.set(font_scale=1.2)\n",
    "import matplotlib.pyplot as plt\n",
    "from sklearn import svm\n",
    "from sklearn.preprocessing import MinMaxScaler\n",
    "from sklearn.preprocessing import quantile_transform\n",
    "from sklearn.model_selection import GridSearchCV\n",
    "from sklearn.metrics import log_loss\n",
    "#...\n",
    "\n"
   ]
  },
  {
   "cell_type": "code",
   "execution_count": 7,
   "metadata": {
    "scrolled": true
   },
   "outputs": [
    {
     "data": {
      "text/plain": [
       "GridSearchCV(cv=5, error_score='raise-deprecating',\n",
       "       estimator=SVC(C=1.0, cache_size=200, class_weight=None, coef0=0.0,\n",
       "  decision_function_shape='ovo', degree=3, gamma='scale', kernel='rbf',\n",
       "  max_iter=-1, probability=True, random_state=None, shrinking=True,\n",
       "  tol=0.001, verbose=False),\n",
       "       fit_params=None, iid='warn', n_jobs=None,\n",
       "       param_grid={'kernel': ('linear', 'rbf'), 'C': [1, 10]},\n",
       "       pre_dispatch='2*n_jobs', refit=True, return_train_score='warn',\n",
       "       scoring=None, verbose=0)"
      ]
     },
     "execution_count": 7,
     "metadata": {},
     "output_type": "execute_result"
    }
   ],
   "source": [
    "# Load the data and cleanup\n",
    "genre = pd.read_csv('train_data.csv', sep=',',header = None) \n",
    "genre_music = pd.DataFrame(genre)\n",
    "labels = pd.read_csv('train_labels.csv', sep=',',header = None) \n",
    "labels_svm = pd.DataFrame(labels).values\n",
    "df = pd.DataFrame(genre)\n",
    "genre_music.drop(genre_music.iloc[:, 216:220], inplace=True, axis=1)\n",
    "\n",
    "rhythym = genre_music.loc[:, '0':'167'].values\n",
    "chroma = genre_music.loc[:, '168':'216'].values\n",
    "MFCC = genre_music.loc[:, '217':'264'].values\n",
    "for i in range(216):\n",
    "    genre_music.rename(columns={i: 'rhythym'}, inplace=True)\n",
    "\n",
    "\n",
    "# for i in range(167):\n",
    "#     if(i<24):\n",
    "#         genre_music.rename(columns={i: 'rhymean'+str(i)}, inplace=True)\n",
    "#     elif(i>=24 and i<48):\n",
    "#         genre_music.rename(columns={i: 'rhymedian'+str(i)}, inplace=True)\n",
    "#     elif(i>=48 and i<72):\n",
    "#         genre_music.rename(columns={i: 'rhyvar'+str(i)}, inplace=True)\n",
    "#     elif(i>=72 and i<96):\n",
    "#         genre_music.rename(columns={i: 'rhykurtosis'+str(i)}, inplace=True)\n",
    "#     elif(i>=96 and i<120):\n",
    "#         genre_music.rename(columns={i: 'rhyskew'+str(i)}, inplace=True)\n",
    "#     elif(i>=120 and i<144):\n",
    "#         genre_music.rename(columns={i: 'rhymin'+str(i)}, inplace=True)\n",
    "#     else:\n",
    "#         genre_music.rename(columns={i: 'rhymax'+str(i)}, inplace=True)\n",
    "j=168\n",
    "for j in range(216):\n",
    "    genre_music.rename(columns={j: 'chroma'}, inplace=True)\n",
    "i=217\n",
    "for i in range(264):\n",
    "    genre_music.rename(columns={i: 'MFCC'}, inplace=True)\n",
    "\n",
    "#min_max = Q()\n",
    "\n",
    "genre_music = quantile_transform(genre_music)\n",
    "\n",
    "\n",
    "parameters = {'kernel':('linear', 'rbf'), 'C':[1, 10]}\n",
    "model = svm.SVC(gamma='scale', decision_function_shape ='ovo', probability = True)\n",
    "clf = GridSearchCV(model, parameters, cv=5)\n",
    "#clf.fit_transform(genre_music,labels_svm)\n",
    "#transformed = clf.transform(genre_music)\n",
    "clf.fit(genre_music, labels_svm.ravel())\n",
    "\n",
    "\n",
    "    \n",
    "\n",
    "    \n",
    "#genre_music1.drop(genre_music1.index[[: 216:219]], axis=1)\n",
    "\n",
    "#genre_music"
   ]
  },
  {
   "cell_type": "code",
   "execution_count": 15,
   "metadata": {},
   "outputs": [
    {
     "name": "stdout",
     "output_type": "stream",
     "text": [
      "260\n",
      "[[  1.60491214e-01   8.45087156e-02   4.38197808e-01 ...,   2.66898466e-03\n",
      "    2.95462310e-02   2.16583376e-02]\n",
      " [  1.21860409e-01   5.72519252e-02   2.10442178e-01 ...,   1.59527422e-02\n",
      "    2.67598208e-01   1.41290075e-02]\n",
      " [  6.86921404e-01   2.03025014e-02   3.29279903e-03 ...,   1.84612170e-01\n",
      "    7.71403215e-04   1.50100977e-02]\n",
      " ..., \n",
      " [  6.56839245e-01   9.30955973e-02   3.36180030e-02 ...,   6.24996844e-02\n",
      "    4.95623164e-03   4.12123566e-02]\n",
      " [  1.21349881e-02   4.89241743e-02   9.30633528e-01 ...,   4.38249431e-04\n",
      "    1.83115684e-03   5.08770003e-04]\n",
      " [  6.01536679e-01   3.71253959e-02   1.27894705e-02 ...,   6.62813398e-02\n",
      "    2.04588740e-03   5.16320094e-02]]\n",
      "[3 9 1 ..., 1 3 1]\n"
     ]
    }
   ],
   "source": [
    "testlabels = pd.read_csv('test_data.csv', sep=',',header = None) \n",
    "testlabels_svm = pd.DataFrame(testlabels)\n",
    "\n",
    "testlabels_svm.drop(testlabels_svm.iloc[:, 216:220], inplace=True, axis=1)\n",
    "testlabels_svm = quantile_transform(testlabels_svm)\n",
    "\n",
    "\n",
    "# parameters = {'kernel':('linear', 'rbf'), 'C':[1, 10]}\n",
    "# model = svm.SVR(gamma = 'scale')\n",
    "# clf = GridSearchCV(model, parameters, cv=5)\n",
    "# #clf.fit_transform(genre_music,labels_svm)\n",
    "# #transformed = clf.transform(genre_music)\n",
    "# clf.fit(testlabels_svm, labels_svm.ravel())\n",
    "print(testlabels_svm.shape[1])\n",
    "pred = clf.predict(testlabels_svm)\n",
    "\n",
    "result = pd.DataFrame(pred)\n",
    "result.index +=1\n",
    "result.to_csv('finalpred',sep = ',', header = None)\n",
    "clf_probs = clf.predict_proba(testlabels_svm)\n",
    "\n",
    "logloss = pd.DataFrame(clf_probs)\n",
    "logloss.index +=1\n",
    "logloss.to_csv('LogLoss',sep = ',', header = None)\n",
    "\n",
    "#score = log_loss(testlabels_svm, clf_probs)\n",
    "\n",
    "print(clf_probs)\n",
    "print(pred)"
   ]
  },
  {
   "cell_type": "code",
   "execution_count": 32,
   "metadata": {},
   "outputs": [],
   "source": [
    "#Analysis of the input data\n",
    "# ...\n",
    "#sns.lmplot('rhythym', 'chroma', data=genre_music);\n"
   ]
  },
  {
   "cell_type": "markdown",
   "metadata": {},
   "source": [
    "## 3. Methods and experiments"
   ]
  },
  {
   "cell_type": "markdown",
   "metadata": {},
   "source": [
    "*- Explain your whole approach (you can include a block diagram showing the steps in your process).* \n",
    "\n",
    "*- What methods/algorithms, why were the methods chosen. *\n",
    "\n",
    "*- What evaluation methodology (cross CV, etc.).*\n",
    "\n"
   ]
  },
  {
   "cell_type": "code",
   "execution_count": null,
   "metadata": {},
   "outputs": [],
   "source": [
    "# Trials with ML algorithms"
   ]
  },
  {
   "cell_type": "markdown",
   "metadata": {},
   "source": [
    "## 4. Results"
   ]
  },
  {
   "cell_type": "markdown",
   "metadata": {},
   "source": [
    "*Summarize the results of the experiments without discussing their implications.*\n",
    "\n",
    "*- Include both performance measures (accuracy and LogLoss).*\n",
    "\n",
    "*- How does it perform on kaggle compared to the train data.*\n",
    "\n",
    "*- Include a confusion matrix.*\n",
    "\n"
   ]
  },
  {
   "cell_type": "code",
   "execution_count": null,
   "metadata": {},
   "outputs": [],
   "source": [
    "#Confusion matrix ..."
   ]
  },
  {
   "cell_type": "markdown",
   "metadata": {},
   "source": [
    "## 5. Discussion/Conclusions"
   ]
  },
  {
   "cell_type": "markdown",
   "metadata": {},
   "source": [
    "*Interpret and explain your results *\n",
    "\n",
    "*- Discuss the relevance of the performance measures (accuracy and LogLoss) for\n",
    "imbalanced multiclass datasets. *\n",
    "\n",
    "*- How the results relate to the literature. *\n",
    "\n",
    "*- Suggestions for future research/improvement. *\n",
    "\n",
    "*- Did the study answer your questions? *\n",
    "\n"
   ]
  },
  {
   "cell_type": "markdown",
   "metadata": {},
   "source": [
    "## 6. References"
   ]
  },
  {
   "cell_type": "markdown",
   "metadata": {},
   "source": [
    "*List of all the references cited in the document*"
   ]
  },
  {
   "cell_type": "markdown",
   "metadata": {},
   "source": [
    "## Appendix\n",
    "*Any additional material needed to complete the report can be included here. For example, if you want to keep  additional source code, additional images or plots, mathematical derivations, etc. The content should be relevant to the report and should help explain or visualize something mentioned earlier. **You can remove the whole Appendix section if there is no need for it.** *"
   ]
  },
  {
   "cell_type": "code",
   "execution_count": null,
   "metadata": {},
   "outputs": [],
   "source": []
  }
 ],
 "metadata": {
  "kernelspec": {
   "display_name": "Python 3",
   "language": "python",
   "name": "python3"
  },
  "language_info": {
   "codemirror_mode": {
    "name": "ipython",
    "version": 3
   },
   "file_extension": ".py",
   "mimetype": "text/x-python",
   "name": "python",
   "nbconvert_exporter": "python",
   "pygments_lexer": "ipython3",
   "version": "3.6.5"
  }
 },
 "nbformat": 4,
 "nbformat_minor": 2
}
